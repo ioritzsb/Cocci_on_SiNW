{
  "nbformat": 4,
  "nbformat_minor": 0,
  "metadata": {
    "colab": {
      "name": "Weighted_colonycells.ipynb",
      "provenance": [],
      "collapsed_sections": [],
      "authorship_tag": "ABX9TyOw1t6D+keu9kGUAz3ikUvm",
      "include_colab_link": true
    },
    "kernelspec": {
      "name": "python3",
      "display_name": "Python 3"
    },
    "language_info": {
      "name": "python"
    }
  },
  "cells": [
    {
      "cell_type": "markdown",
      "metadata": {
        "id": "view-in-github",
        "colab_type": "text"
      },
      "source": [
        "<a href=\"https://colab.research.google.com/github/ioritzsb/Cocci_on_SiNW/blob/main/Weighted_ColonyCells.ipynb\" target=\"_parent\"><img src=\"https://colab.research.google.com/assets/colab-badge.svg\" alt=\"Open In Colab\"/></a>"
      ]
    },
    {
      "cell_type": "code",
      "source": [
        "#@markdown # Play the cell to import libraries {display-mode: \"form\"}\n",
        "\n",
        "import matplotlib.pyplot as plt\n",
        "import seaborn as sns\n",
        "import numpy as np\n",
        "import pandas as pd\n",
        "%matplotlib inline"
      ],
      "metadata": {
        "id": "QlgiHmsTVJM4",
        "cellView": "form"
      },
      "execution_count": null,
      "outputs": []
    },
    {
      "cell_type": "code",
      "source": [
        "# @markdown # Import data\n",
        "# @markdown Import data for *S. aureus* on colony morphology data on 'Flat' and 'SiNW' surfaces.\n",
        "# @markdown Full dataset is available on [Github](https://github.com/ioritzsb/Cocci_on_SiNW/blob/main/Data/colony_morphology.csv)\n",
        "url = 'https://raw.githubusercontent.com/ioritzsb/Cocci_on_SiNW/main/Data/colony_morphology.csv'\n",
        "df = pd.read_csv(url)\n",
        "df.head(5)"
      ],
      "metadata": {
        "colab": {
          "base_uri": "https://localhost:8080/"
        },
        "id": "jiiUAGIQd2qx",
        "outputId": "98b5948d-2eaa-4c2b-db2a-a6dce7f913db",
        "cellView": "form"
      },
      "execution_count": null,
      "outputs": [
        {
          "output_type": "execute_result",
          "data": {
            "text/html": [
              "\n",
              "  <div id=\"df-bde4e762-1f08-4b10-b601-811d470a17ae\">\n",
              "    <div class=\"colab-df-container\">\n",
              "      <div>\n",
              "<style scoped>\n",
              "    .dataframe tbody tr th:only-of-type {\n",
              "        vertical-align: middle;\n",
              "    }\n",
              "\n",
              "    .dataframe tbody tr th {\n",
              "        vertical-align: top;\n",
              "    }\n",
              "\n",
              "    .dataframe thead th {\n",
              "        text-align: right;\n",
              "    }\n",
              "</style>\n",
              "<table border=\"1\" class=\"dataframe\">\n",
              "  <thead>\n",
              "    <tr style=\"text-align: right;\">\n",
              "      <th></th>\n",
              "      <th>Colony</th>\n",
              "      <th>N_cells</th>\n",
              "      <th>Circularity</th>\n",
              "      <th>MaxFeretDiam</th>\n",
              "      <th>InscrCircR</th>\n",
              "      <th>Surface</th>\n",
              "    </tr>\n",
              "  </thead>\n",
              "  <tbody>\n",
              "    <tr>\n",
              "      <th>0</th>\n",
              "      <td>1</td>\n",
              "      <td>5</td>\n",
              "      <td>0.445</td>\n",
              "      <td>3.635</td>\n",
              "      <td>0.704</td>\n",
              "      <td>Flat</td>\n",
              "    </tr>\n",
              "    <tr>\n",
              "      <th>1</th>\n",
              "      <td>2</td>\n",
              "      <td>3</td>\n",
              "      <td>0.852</td>\n",
              "      <td>2.216</td>\n",
              "      <td>0.653</td>\n",
              "      <td>Flat</td>\n",
              "    </tr>\n",
              "    <tr>\n",
              "      <th>2</th>\n",
              "      <td>3</td>\n",
              "      <td>4</td>\n",
              "      <td>0.633</td>\n",
              "      <td>2.829</td>\n",
              "      <td>0.653</td>\n",
              "      <td>Flat</td>\n",
              "    </tr>\n",
              "    <tr>\n",
              "      <th>3</th>\n",
              "      <td>4</td>\n",
              "      <td>1</td>\n",
              "      <td>0.962</td>\n",
              "      <td>1.157</td>\n",
              "      <td>0.503</td>\n",
              "      <td>Flat</td>\n",
              "    </tr>\n",
              "    <tr>\n",
              "      <th>4</th>\n",
              "      <td>5</td>\n",
              "      <td>12</td>\n",
              "      <td>0.375</td>\n",
              "      <td>6.460</td>\n",
              "      <td>1.005</td>\n",
              "      <td>Flat</td>\n",
              "    </tr>\n",
              "  </tbody>\n",
              "</table>\n",
              "</div>\n",
              "      <button class=\"colab-df-convert\" onclick=\"convertToInteractive('df-bde4e762-1f08-4b10-b601-811d470a17ae')\"\n",
              "              title=\"Convert this dataframe to an interactive table.\"\n",
              "              style=\"display:none;\">\n",
              "        \n",
              "  <svg xmlns=\"http://www.w3.org/2000/svg\" height=\"24px\"viewBox=\"0 0 24 24\"\n",
              "       width=\"24px\">\n",
              "    <path d=\"M0 0h24v24H0V0z\" fill=\"none\"/>\n",
              "    <path d=\"M18.56 5.44l.94 2.06.94-2.06 2.06-.94-2.06-.94-.94-2.06-.94 2.06-2.06.94zm-11 1L8.5 8.5l.94-2.06 2.06-.94-2.06-.94L8.5 2.5l-.94 2.06-2.06.94zm10 10l.94 2.06.94-2.06 2.06-.94-2.06-.94-.94-2.06-.94 2.06-2.06.94z\"/><path d=\"M17.41 7.96l-1.37-1.37c-.4-.4-.92-.59-1.43-.59-.52 0-1.04.2-1.43.59L10.3 9.45l-7.72 7.72c-.78.78-.78 2.05 0 2.83L4 21.41c.39.39.9.59 1.41.59.51 0 1.02-.2 1.41-.59l7.78-7.78 2.81-2.81c.8-.78.8-2.07 0-2.86zM5.41 20L4 18.59l7.72-7.72 1.47 1.35L5.41 20z\"/>\n",
              "  </svg>\n",
              "      </button>\n",
              "      \n",
              "  <style>\n",
              "    .colab-df-container {\n",
              "      display:flex;\n",
              "      flex-wrap:wrap;\n",
              "      gap: 12px;\n",
              "    }\n",
              "\n",
              "    .colab-df-convert {\n",
              "      background-color: #E8F0FE;\n",
              "      border: none;\n",
              "      border-radius: 50%;\n",
              "      cursor: pointer;\n",
              "      display: none;\n",
              "      fill: #1967D2;\n",
              "      height: 32px;\n",
              "      padding: 0 0 0 0;\n",
              "      width: 32px;\n",
              "    }\n",
              "\n",
              "    .colab-df-convert:hover {\n",
              "      background-color: #E2EBFA;\n",
              "      box-shadow: 0px 1px 2px rgba(60, 64, 67, 0.3), 0px 1px 3px 1px rgba(60, 64, 67, 0.15);\n",
              "      fill: #174EA6;\n",
              "    }\n",
              "\n",
              "    [theme=dark] .colab-df-convert {\n",
              "      background-color: #3B4455;\n",
              "      fill: #D2E3FC;\n",
              "    }\n",
              "\n",
              "    [theme=dark] .colab-df-convert:hover {\n",
              "      background-color: #434B5C;\n",
              "      box-shadow: 0px 1px 3px 1px rgba(0, 0, 0, 0.15);\n",
              "      filter: drop-shadow(0px 1px 2px rgba(0, 0, 0, 0.3));\n",
              "      fill: #FFFFFF;\n",
              "    }\n",
              "  </style>\n",
              "\n",
              "      <script>\n",
              "        const buttonEl =\n",
              "          document.querySelector('#df-bde4e762-1f08-4b10-b601-811d470a17ae button.colab-df-convert');\n",
              "        buttonEl.style.display =\n",
              "          google.colab.kernel.accessAllowed ? 'block' : 'none';\n",
              "\n",
              "        async function convertToInteractive(key) {\n",
              "          const element = document.querySelector('#df-bde4e762-1f08-4b10-b601-811d470a17ae');\n",
              "          const dataTable =\n",
              "            await google.colab.kernel.invokeFunction('convertToInteractive',\n",
              "                                                     [key], {});\n",
              "          if (!dataTable) return;\n",
              "\n",
              "          const docLinkHtml = 'Like what you see? Visit the ' +\n",
              "            '<a target=\"_blank\" href=https://colab.research.google.com/notebooks/data_table.ipynb>data table notebook</a>'\n",
              "            + ' to learn more about interactive tables.';\n",
              "          element.innerHTML = '';\n",
              "          dataTable['output_type'] = 'display_data';\n",
              "          await google.colab.output.renderOutput(dataTable, element);\n",
              "          const docLink = document.createElement('div');\n",
              "          docLink.innerHTML = docLinkHtml;\n",
              "          element.appendChild(docLink);\n",
              "        }\n",
              "      </script>\n",
              "    </div>\n",
              "  </div>\n",
              "  "
            ],
            "text/plain": [
              "   Colony  N_cells  Circularity  MaxFeretDiam  InscrCircR Surface\n",
              "0       1        5        0.445         3.635       0.704    Flat\n",
              "1       2        3        0.852         2.216       0.653    Flat\n",
              "2       3        4        0.633         2.829       0.653    Flat\n",
              "3       4        1        0.962         1.157       0.503    Flat\n",
              "4       5       12        0.375         6.460       1.005    Flat"
            ]
          },
          "metadata": {},
          "execution_count": 12
        }
      ]
    },
    {
      "cell_type": "code",
      "source": [
        "# @markdown # Filter out colonies with a single cell (N>1)\n",
        "# @markdown (Do not play this cell if you want to keep colonies with single-cells)\n",
        "df = df[df['N_cells'] > 1]\n"
      ],
      "metadata": {
        "id": "gTiXdDmkMXWw",
        "cellView": "form"
      },
      "execution_count": null,
      "outputs": []
    },
    {
      "cell_type": "code",
      "source": [
        "# @markdown # Generate dataframes for flat and SiNW surfaces\n",
        "\n",
        "#Colonies on flat surfaces\n",
        "df_f = df[df['Surface'] == 'Flat']\n",
        "df_f_w = pd.DataFrame()\n",
        "df_f_w['colony_size'] = df_f['N_cells'].value_counts().index.to_numpy()\n",
        "df_f_w['counts'] = df_f['N_cells'].value_counts().reset_index(drop=True)\n",
        "df_f_w['weights'] = df_f_w['colony_size'] * df_f_w['counts']\n",
        "df_f_w['surface'] = 'Flat'\n",
        "\n",
        "#Colonies on SiNW\n",
        "df_sinw = df[df['Surface'] == 'SiNW']\n",
        "df_sinw_w = pd.DataFrame()\n",
        "df_sinw_w['colony_size'] = df_sinw['N_cells'].value_counts().index.to_numpy()\n",
        "df_sinw_w['counts'] = df_sinw['N_cells'].value_counts().reset_index(drop=True)\n",
        "df_sinw_w['weights'] = df_sinw_w['colony_size'] * df_sinw_w['counts']\n",
        "df_sinw_w['surface'] = 'SiNW'\n"
      ],
      "metadata": {
        "id": "fLeBgQ6LZX7I",
        "cellView": "form"
      },
      "execution_count": null,
      "outputs": []
    },
    {
      "cell_type": "code",
      "source": [
        "# @markdown # Plot weighted histograms\n",
        "ax, fig = plt.subplots(figsize=(10,10))\n",
        "sns.kdeplot(x='colony_size',weights='weights',  data=df_f_w)\n",
        "sns.kdeplot(x='colony_size',weights='weights', data=df_sinw_w)\n",
        "fig.legend(labels=['Flat','SiNW',...])\n",
        "plt.show()"
      ],
      "metadata": {
        "id": "MN8R14qpZuYo",
        "colab": {
          "base_uri": "https://localhost:8080/",
          "height": 606
        },
        "cellView": "form",
        "outputId": "495e2ce4-56db-4c8c-a888-cdc7076b5515"
      },
      "execution_count": null,
      "outputs": [
        {
          "output_type": "display_data",
          "data": {
            "image/png": "[encoded data removed]",
            "text/plain": [
              "<Figure size 720x720 with 1 Axes>"
            ]
          },
          "metadata": {
            "needs_background": "light"
          }
        }
      ]
    }
  ]
}